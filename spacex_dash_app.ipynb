{
 "cells": [
  {
   "cell_type": "markdown",
   "id": "fb9face6",
   "metadata": {},
   "source": [
    "# Build a Dashboard Application"
   ]
  },
  {
   "cell_type": "markdown",
   "id": "d53176b2",
   "metadata": {},
   "source": [
    "In this lab, we will be building a Plotly Dash application for users to perform interactive visual analytics on SpaceX launch data in real-time."
   ]
  },
  {
   "cell_type": "markdown",
   "id": "dbd17752",
   "metadata": {},
   "source": [
    "This dashboard application contains input components such as a dropdown list and a range slider to interact with a pie chart and a scatter point chart. We will be guided to build this dashboard application via the following tasks:\n",
    "\n",
    "* **TASK 1:** Add a Launch Site Drop-down Input Component\n",
    "* **TASK 2:** Add a callback function to render `success-pie-chart` based on selected site dropdown\n",
    "* **TASK 3:** Add a Range Slider to Select Payload\n",
    "* **TASK 4:** Add a callback function to render the `success-payload-scatter-chart` scatter plot"
   ]
  },
  {
   "cell_type": "markdown",
   "id": "4aa8cdf5",
   "metadata": {},
   "source": [
    "## Download a skeleton dashboard application and dataset\n",
    "\n",
    "First, let's get the SpaceX Launch dataset for this lab"
   ]
  },
  {
   "cell_type": "markdown",
   "id": "39f08388",
   "metadata": {},
   "source": [
    "Let's first import required Python packages for this lab:"
   ]
  },
  {
   "cell_type": "code",
   "execution_count": 1,
   "id": "dbcc58eb",
   "metadata": {},
   "outputs": [
    {
     "name": "stdout",
     "output_type": "stream",
     "text": [
      "Requirement already satisfied: pandas in c:\\users\\kgcgo\\anaconda3\\lib\\site-packages (1.1.5)\n",
      "Requirement already satisfied: dash in c:\\users\\kgcgo\\anaconda3\\lib\\site-packages (2.5.1)\n",
      "Requirement already satisfied: Flask>=1.0.4 in c:\\users\\kgcgo\\anaconda3\\lib\\site-packages (from dash) (1.1.2)\n",
      "Requirement already satisfied: dash-table==5.0.0 in c:\\users\\kgcgo\\anaconda3\\lib\\site-packages (from dash) (5.0.0)\n",
      "Requirement already satisfied: dash-html-components==2.0.0 in c:\\users\\kgcgo\\anaconda3\\lib\\site-packages (from dash) (2.0.0)\n",
      "Requirement already satisfied: dash-core-components==2.0.0 in c:\\users\\kgcgo\\anaconda3\\lib\\site-packages (from dash) (2.0.0)\n",
      "Requirement already satisfied: plotly>=5.0.0 in c:\\users\\kgcgo\\anaconda3\\lib\\site-packages (from dash) (5.9.0)\n",
      "Requirement already satisfied: flask-compress in c:\\users\\kgcgo\\anaconda3\\lib\\site-packages (from dash) (1.12)\n",
      "Requirement already satisfied: itsdangerous>=0.24 in c:\\users\\kgcgo\\anaconda3\\lib\\site-packages (from Flask>=1.0.4->dash) (1.1.0)\n",
      "Requirement already satisfied: Jinja2>=2.10.1 in c:\\users\\kgcgo\\anaconda3\\lib\\site-packages (from Flask>=1.0.4->dash) (2.11.3)\n",
      "Requirement already satisfied: click>=5.1 in c:\\users\\kgcgo\\anaconda3\\lib\\site-packages (from Flask>=1.0.4->dash) (7.1.2)\n",
      "Requirement already satisfied: Werkzeug>=0.15 in c:\\users\\kgcgo\\anaconda3\\lib\\site-packages (from Flask>=1.0.4->dash) (1.0.1)\n",
      "Requirement already satisfied: MarkupSafe>=0.23 in c:\\users\\kgcgo\\anaconda3\\lib\\site-packages (from Jinja2>=2.10.1->Flask>=1.0.4->dash) (1.1.1)\n",
      "Requirement already satisfied: tenacity>=6.2.0 in c:\\users\\kgcgo\\anaconda3\\lib\\site-packages (from plotly>=5.0.0->dash) (8.0.1)\n",
      "Requirement already satisfied: numpy>=1.15.4 in c:\\users\\kgcgo\\anaconda3\\lib\\site-packages (from pandas) (1.21.6)\n",
      "Requirement already satisfied: python-dateutil>=2.7.3 in c:\\users\\kgcgo\\anaconda3\\lib\\site-packages (from pandas) (2.8.1)\n",
      "Requirement already satisfied: pytz>=2017.2 in c:\\users\\kgcgo\\anaconda3\\lib\\site-packages (from pandas) (2021.1)\n",
      "Requirement already satisfied: six>=1.5 in c:\\users\\kgcgo\\anaconda3\\lib\\site-packages (from python-dateutil>=2.7.3->pandas) (1.15.0)\n",
      "Requirement already satisfied: brotli in c:\\users\\kgcgo\\anaconda3\\lib\\site-packages (from flask-compress->dash) (1.0.9)\n"
     ]
    }
   ],
   "source": [
    "!pip3 install pandas dash"
   ]
  },
  {
   "cell_type": "code",
   "execution_count": 2,
   "id": "d075554c",
   "metadata": {},
   "outputs": [
    {
     "name": "stderr",
     "output_type": "stream",
     "text": [
      "<ipython-input-2-7f16c1f1e63e>:4: UserWarning: \n",
      "The dash_html_components package is deprecated. Please replace\n",
      "`import dash_html_components as html` with `from dash import html`\n",
      "  import dash_html_components as html\n",
      "<ipython-input-2-7f16c1f1e63e>:5: UserWarning: \n",
      "The dash_core_components package is deprecated. Please replace\n",
      "`import dash_core_components as dcc` with `from dash import dcc`\n",
      "  import dash_core_components as dcc\n"
     ]
    }
   ],
   "source": [
    "# Import required libraries\n",
    "import pandas as pd\n",
    "import dash\n",
    "import dash_html_components as html\n",
    "import dash_core_components as dcc\n",
    "from dash.dependencies import Input, Output\n",
    "import plotly.express as px\n",
    "import wget"
   ]
  },
  {
   "cell_type": "code",
   "execution_count": 3,
   "id": "a7e8a8b3",
   "metadata": {},
   "outputs": [
    {
     "name": "stdout",
     "output_type": "stream",
     "text": [
      "\r",
      "  0% [                                                                                ]    0 / 2476\r",
      "100% [................................................................................] 2476 / 2476"
     ]
    },
    {
     "data": {
      "text/html": [
       "<div>\n",
       "<style scoped>\n",
       "    .dataframe tbody tr th:only-of-type {\n",
       "        vertical-align: middle;\n",
       "    }\n",
       "\n",
       "    .dataframe tbody tr th {\n",
       "        vertical-align: top;\n",
       "    }\n",
       "\n",
       "    .dataframe thead th {\n",
       "        text-align: right;\n",
       "    }\n",
       "</style>\n",
       "<table border=\"1\" class=\"dataframe\">\n",
       "  <thead>\n",
       "    <tr style=\"text-align: right;\">\n",
       "      <th></th>\n",
       "      <th>Unnamed: 0</th>\n",
       "      <th>Flight Number</th>\n",
       "      <th>Launch Site</th>\n",
       "      <th>class</th>\n",
       "      <th>Payload Mass (kg)</th>\n",
       "      <th>Booster Version</th>\n",
       "      <th>Booster Version Category</th>\n",
       "    </tr>\n",
       "  </thead>\n",
       "  <tbody>\n",
       "    <tr>\n",
       "      <th>0</th>\n",
       "      <td>0</td>\n",
       "      <td>1</td>\n",
       "      <td>CCAFS LC-40</td>\n",
       "      <td>0</td>\n",
       "      <td>0.0</td>\n",
       "      <td>F9 v1.0  B0003</td>\n",
       "      <td>v1.0</td>\n",
       "    </tr>\n",
       "    <tr>\n",
       "      <th>1</th>\n",
       "      <td>1</td>\n",
       "      <td>2</td>\n",
       "      <td>CCAFS LC-40</td>\n",
       "      <td>0</td>\n",
       "      <td>0.0</td>\n",
       "      <td>F9 v1.0  B0004</td>\n",
       "      <td>v1.0</td>\n",
       "    </tr>\n",
       "    <tr>\n",
       "      <th>2</th>\n",
       "      <td>2</td>\n",
       "      <td>3</td>\n",
       "      <td>CCAFS LC-40</td>\n",
       "      <td>0</td>\n",
       "      <td>525.0</td>\n",
       "      <td>F9 v1.0  B0005</td>\n",
       "      <td>v1.0</td>\n",
       "    </tr>\n",
       "    <tr>\n",
       "      <th>3</th>\n",
       "      <td>3</td>\n",
       "      <td>4</td>\n",
       "      <td>CCAFS LC-40</td>\n",
       "      <td>0</td>\n",
       "      <td>500.0</td>\n",
       "      <td>F9 v1.0  B0006</td>\n",
       "      <td>v1.0</td>\n",
       "    </tr>\n",
       "    <tr>\n",
       "      <th>4</th>\n",
       "      <td>4</td>\n",
       "      <td>5</td>\n",
       "      <td>CCAFS LC-40</td>\n",
       "      <td>0</td>\n",
       "      <td>677.0</td>\n",
       "      <td>F9 v1.0  B0007</td>\n",
       "      <td>v1.0</td>\n",
       "    </tr>\n",
       "  </tbody>\n",
       "</table>\n",
       "</div>"
      ],
      "text/plain": [
       "   Unnamed: 0  Flight Number  Launch Site  class  Payload Mass (kg)  \\\n",
       "0           0              1  CCAFS LC-40      0                0.0   \n",
       "1           1              2  CCAFS LC-40      0                0.0   \n",
       "2           2              3  CCAFS LC-40      0              525.0   \n",
       "3           3              4  CCAFS LC-40      0              500.0   \n",
       "4           4              5  CCAFS LC-40      0              677.0   \n",
       "\n",
       "  Booster Version Booster Version Category  \n",
       "0  F9 v1.0  B0003                     v1.0  \n",
       "1  F9 v1.0  B0004                     v1.0  \n",
       "2  F9 v1.0  B0005                     v1.0  \n",
       "3  F9 v1.0  B0006                     v1.0  \n",
       "4  F9 v1.0  B0007                     v1.0  "
      ]
     },
     "execution_count": 3,
     "metadata": {},
     "output_type": "execute_result"
    }
   ],
   "source": [
    "wget.download(\"https://cf-courses-data.s3.us.cloud-object-storage.appdomain.cloud/IBM-DS0321EN-SkillsNetwork/datasets/spacex_launch_dash.csv\")\n",
    "spacex_df = pd.read_csv(\"spacex_launch_dash.csv\")\n",
    "spacex_df.head()"
   ]
  },
  {
   "cell_type": "markdown",
   "id": "0ecc91c7",
   "metadata": {},
   "source": [
    "Read the airline data into pandas dataframe"
   ]
  },
  {
   "cell_type": "code",
   "execution_count": 4,
   "id": "0cc9e984",
   "metadata": {},
   "outputs": [],
   "source": [
    "max_payload = spacex_df['Payload Mass (kg)'].max()\n",
    "min_payload = spacex_df['Payload Mass (kg)'].min()"
   ]
  },
  {
   "cell_type": "markdown",
   "id": "d2e0ea85",
   "metadata": {},
   "source": [
    "Create a dash application"
   ]
  },
  {
   "cell_type": "code",
   "execution_count": 5,
   "id": "e694a3ef",
   "metadata": {},
   "outputs": [],
   "source": [
    "app = dash.Dash(__name__)"
   ]
  },
  {
   "cell_type": "markdown",
   "id": "c4e26439",
   "metadata": {},
   "source": [
    "Create an app layout"
   ]
  },
  {
   "cell_type": "code",
   "execution_count": 6,
   "id": "6ef797d6",
   "metadata": {},
   "outputs": [],
   "source": [
    "app.layout = html.Div(children=[html.H1('SpaceX Launch Records Dashboard',\n",
    "                                        style={'textAlign': 'center', 'color': '#503D36',\n",
    "                                               'font-size': 40}),\n",
    "                                # TASK 1: Add a dropdown list to enable Launch Site selection\n",
    "                                # The default select value is for ALL sites\n",
    "                                dcc.Dropdown(id='site-dropdown',\n",
    "                                            options=[\n",
    "                                                {'label': 'All Sites', 'value': 'ALL'},\n",
    "                                                {'label': 'CCAFS LC-40', 'value': 'CCAFS LC-40'},\n",
    "                                                {'label': 'VAFB SLC-4E', 'value': 'VAFB SLC-4E'},\n",
    "                                                {'label': 'KSC LC-39A', 'value': 'KSC LC-39A'},\n",
    "                                                {'label': 'CCAFS SLC-40', 'value': 'CCAFS SLC-40'},\n",
    "                                            ],\n",
    "                                            value='ALL',\n",
    "                                            placeholder=\"Select a Launch Site here\",\n",
    "                                            searchable=True\n",
    "                                            ),\n",
    "                                html.Br(),\n",
    "\n",
    "                                # TASK 2: Add a pie chart to show the total successful launches count for all sites\n",
    "                                # If a specific launch site was selected, show the Success vs. Failed counts for the site\n",
    "                                html.Div(dcc.Graph(id='success-pie-chart')),\n",
    "                                html.Br(),\n",
    "\n",
    "                                html.P(\"Payload range (Kg):\"),\n",
    "                                # TASK 3: Add a slider to select payload range\n",
    "                                dcc.RangeSlider(id='payload-slider',\n",
    "                                                min=0, max=10000, step=1000,\n",
    "                                                marks={0: '0', 2500: '2500', 5000: '5000', 7500: '7500', 10000: '10000'},\n",
    "                                                value=[min_payload, max_payload]),\n",
    "\n",
    "                                # TASK 4: Add a scatter chart to show the correlation between payload and launch success\n",
    "                                html.Div(dcc.Graph(id='success-payload-scatter-chart')),\n",
    "                                ])"
   ]
  },
  {
   "cell_type": "markdown",
   "id": "2962f78e",
   "metadata": {},
   "source": [
    "Add a callback function for `site-dropdown` as input, `success-pie-chart` as output"
   ]
  },
  {
   "cell_type": "code",
   "execution_count": 7,
   "id": "eff3e47d",
   "metadata": {},
   "outputs": [],
   "source": [
    "@app.callback(Output(component_id='success-pie-chart', component_property='figure'),\n",
    "              Input(component_id='site-dropdown', component_property='value'))\n",
    "def get_pie_chart(entered_site):\n",
    "    filtered_df = spacex_df\n",
    "    if entered_site == 'ALL':\n",
    "        fig = px.pie(data, values='class', \n",
    "        names='Launch Site', \n",
    "        title='Total Success Launches By Site')\n",
    "        return fig\n",
    "    else:\n",
    "        # return the outcomes piechart for a selected site\n",
    "        filtered_df = spacex_df[spacex_df['Launch Site'] == entered_site]\n",
    "        filtered_df = filtered_df.groupby(['Launch Site', 'class']).size().reset_index(name='class count')\n",
    "        fig = px.pie(filtered_df, values='class count', \n",
    "        names='class',\n",
    "        title=f'Total Success Launched for site {entered_site}')\n",
    "        return fig"
   ]
  },
  {
   "cell_type": "markdown",
   "id": "16bc3e2e",
   "metadata": {},
   "source": [
    "Add a callback function for `site-dropdown` and `payload-slider` as inputs, `success-payload-scatter-chart` as output"
   ]
  },
  {
   "cell_type": "code",
   "execution_count": 8,
   "id": "eb0909b9",
   "metadata": {},
   "outputs": [],
   "source": [
    "@app.callback(Output(component_id='success-payload-scatter-chart', component_property='figure'),\n",
    "              [Input(component_id='site-dropdown', component_property='value'), \n",
    "              Input(component_id='payload-slider', component_property='value')])\n",
    "def get_scatter_chart(entered_site, payload):\n",
    "    low, high = payload\n",
    "    filtered_df = spacex_df[(spacex_df['Payload Mass (kg)'] > low) & (spacex_df['Payload Mass (kg)'] < high)]       \n",
    "    if entered_site == 'ALL':\n",
    "        fig = px.scatter(filtered_df, x='Payload Mass (kg)', y='class', \n",
    "        color='Booster Version Category',\n",
    "        title='Correlation between Payload and Success for all Sites')\n",
    "        return fig\n",
    "    else:\n",
    "        fig = px.scatter(filtered_df[filtered_df['Launch Site'] == entered_site],\n",
    "        x='Payload Mass (kg)', y='class',\n",
    "        color='Booster Version Category',\n",
    "        title=f'Correlation between Payload and Success for site {entered_site}')\n",
    "        return fig"
   ]
  },
  {
   "cell_type": "markdown",
   "id": "9fd12f5e",
   "metadata": {},
   "source": [
    "# Run the app"
   ]
  },
  {
   "cell_type": "code",
   "execution_count": null,
   "id": "28ff9694",
   "metadata": {},
   "outputs": [
    {
     "name": "stdout",
     "output_type": "stream",
     "text": [
      "Dash is running on http://127.0.0.1:8050/\n",
      "\n",
      " * Serving Flask app \"__main__\" (lazy loading)\n",
      " * Environment: production\n",
      "   WARNING: This is a development server. Do not use it in a production deployment.\n",
      "   Use a production WSGI server instead.\n",
      " * Debug mode: off\n"
     ]
    },
    {
     "name": "stderr",
     "output_type": "stream",
     "text": [
      " * Running on http://127.0.0.1:8050/ (Press CTRL+C to quit)\n",
      "127.0.0.1 - - [26/Nov/2022 15:28:50] \"\u001b[37mGET / HTTP/1.1\u001b[0m\" 200 -\n",
      "127.0.0.1 - - [26/Nov/2022 15:28:50] \"\u001b[37mGET /_dash-component-suites/dash/deps/polyfill@7.v2_5_1m1656868587.12.1.min.js HTTP/1.1\u001b[0m\" 200 -\n",
      "127.0.0.1 - - [26/Nov/2022 15:28:50] \"\u001b[37mGET /_dash-component-suites/dash/deps/react@16.v2_5_1m1656868587.14.0.min.js HTTP/1.1\u001b[0m\" 200 -\n",
      "127.0.0.1 - - [26/Nov/2022 15:28:50] \"\u001b[37mGET /_dash-component-suites/dash/deps/react-dom@16.v2_5_1m1656868587.14.0.min.js HTTP/1.1\u001b[0m\" 200 -\n",
      "127.0.0.1 - - [26/Nov/2022 15:28:50] \"\u001b[37mGET /_dash-component-suites/dash/deps/prop-types@15.v2_5_1m1656868587.8.1.min.js HTTP/1.1\u001b[0m\" 200 -\n",
      "127.0.0.1 - - [26/Nov/2022 15:28:50] \"\u001b[37mGET /_dash-component-suites/dash/dash-renderer/build/dash_renderer.v2_5_1m1656868587.min.js HTTP/1.1\u001b[0m\" 200 -\n",
      "127.0.0.1 - - [26/Nov/2022 15:28:50] \"\u001b[37mGET /_dash-component-suites/dash/dcc/dash_core_components.v2_5_0m1656868587.js HTTP/1.1\u001b[0m\" 200 -\n",
      "127.0.0.1 - - [26/Nov/2022 15:28:50] \"\u001b[37mGET /_dash-component-suites/dash/dcc/dash_core_components-shared.v2_5_0m1656868587.js HTTP/1.1\u001b[0m\" 200 -\n",
      "127.0.0.1 - - [26/Nov/2022 15:28:50] \"\u001b[37mGET /_dash-component-suites/dash/html/dash_html_components.v2_0_3m1656868587.min.js HTTP/1.1\u001b[0m\" 200 -\n",
      "127.0.0.1 - - [26/Nov/2022 15:28:50] \"\u001b[37mGET /_dash-component-suites/dash/dash_table/bundle.v5_1_3m1656868587.js HTTP/1.1\u001b[0m\" 200 -\n",
      "127.0.0.1 - - [26/Nov/2022 15:28:50] \"\u001b[37mGET /_dash-layout HTTP/1.1\u001b[0m\" 200 -\n",
      "127.0.0.1 - - [26/Nov/2022 15:28:50] \"\u001b[37mGET /_dash-dependencies HTTP/1.1\u001b[0m\" 200 -\n",
      "127.0.0.1 - - [26/Nov/2022 15:28:50] \"\u001b[37mGET /_dash-component-suites/dash/dcc/async-dropdown.js HTTP/1.1\u001b[0m\" 200 -\n",
      "127.0.0.1 - - [26/Nov/2022 15:28:50] \"\u001b[37mGET /_dash-component-suites/dash/dcc/async-graph.js HTTP/1.1\u001b[0m\" 200 -\n",
      "127.0.0.1 - - [26/Nov/2022 15:28:50] \"\u001b[37mGET /_dash-component-suites/dash/dcc/async-slider.js HTTP/1.1\u001b[0m\" 200 -\n",
      "127.0.0.1 - - [26/Nov/2022 15:28:50] \"\u001b[37mGET /_dash-component-suites/dash/dcc/async-plotlyjs.js HTTP/1.1\u001b[0m\" 200 -\n"
     ]
    },
    {
     "name": "stdout",
     "output_type": "stream",
     "text": [
      "Exception on /_dash-update-component [POST]\n",
      "Traceback (most recent call last):\n",
      "  File \"C:\\Users\\kgcgo\\anaconda3\\lib\\site-packages\\flask\\app.py\", line 2447, in wsgi_app\n",
      "    response = self.full_dispatch_request()\n",
      "  File \"C:\\Users\\kgcgo\\anaconda3\\lib\\site-packages\\flask\\app.py\", line 1952, in full_dispatch_request\n",
      "    rv = self.handle_user_exception(e)\n",
      "  File \"C:\\Users\\kgcgo\\anaconda3\\lib\\site-packages\\flask\\app.py\", line 1821, in handle_user_exception\n",
      "    reraise(exc_type, exc_value, tb)\n",
      "  File \"C:\\Users\\kgcgo\\anaconda3\\lib\\site-packages\\flask\\_compat.py\", line 39, in reraise\n",
      "    raise value\n",
      "  File \"C:\\Users\\kgcgo\\anaconda3\\lib\\site-packages\\flask\\app.py\", line 1950, in full_dispatch_request\n",
      "    rv = self.dispatch_request()\n",
      "  File \"C:\\Users\\kgcgo\\anaconda3\\lib\\site-packages\\flask\\app.py\", line 1936, in dispatch_request\n",
      "    return self.view_functions[rule.endpoint](**req.view_args)\n",
      "  File \"C:\\Users\\kgcgo\\anaconda3\\lib\\site-packages\\dash\\dash.py\", line 1472, in dispatch\n",
      "    response.set_data(func(*args, outputs_list=outputs_list))\n",
      "  File \"C:\\Users\\kgcgo\\anaconda3\\lib\\site-packages\\dash\\_callback.py\", line 151, in add_context\n",
      "    output_value = func(*func_args, **func_kwargs)  # %% callback invoked %%\n",
      "  File \"<ipython-input-7-aed2ee1f5d3a>\", line 6, in get_pie_chart\n",
      "    fig = px.pie(data, values='class',\n",
      "NameError: name 'data' is not defined\n"
     ]
    },
    {
     "name": "stderr",
     "output_type": "stream",
     "text": [
      "127.0.0.1 - - [26/Nov/2022 15:28:50] \"\u001b[35m\u001b[1mPOST /_dash-update-component HTTP/1.1\u001b[0m\" 500 -\n",
      "127.0.0.1 - - [26/Nov/2022 15:28:50] \"\u001b[37mGET /_favicon.ico?v=2.5.1 HTTP/1.1\u001b[0m\" 200 -\n",
      "127.0.0.1 - - [26/Nov/2022 15:28:51] \"\u001b[37mPOST /_dash-update-component HTTP/1.1\u001b[0m\" 200 -\n",
      "127.0.0.1 - - [26/Nov/2022 15:28:58] \"\u001b[37mPOST /_dash-update-component HTTP/1.1\u001b[0m\" 200 -\n",
      "127.0.0.1 - - [26/Nov/2022 15:28:58] \"\u001b[37mPOST /_dash-update-component HTTP/1.1\u001b[0m\" 200 -\n",
      "127.0.0.1 - - [26/Nov/2022 15:29:04] \"\u001b[37mPOST /_dash-update-component HTTP/1.1\u001b[0m\" 200 -\n",
      "127.0.0.1 - - [26/Nov/2022 15:29:06] \"\u001b[37mPOST /_dash-update-component HTTP/1.1\u001b[0m\" 200 -\n",
      "127.0.0.1 - - [26/Nov/2022 15:29:09] \"\u001b[37mPOST /_dash-update-component HTTP/1.1\u001b[0m\" 200 -\n"
     ]
    }
   ],
   "source": [
    "if __name__ == '__main__':\n",
    "    app.run_server()"
   ]
  }
 ],
 "metadata": {
  "kernelspec": {
   "display_name": "Python 3",
   "language": "python",
   "name": "python3"
  },
  "language_info": {
   "codemirror_mode": {
    "name": "ipython",
    "version": 3
   },
   "file_extension": ".py",
   "mimetype": "text/x-python",
   "name": "python",
   "nbconvert_exporter": "python",
   "pygments_lexer": "ipython3",
   "version": "3.8.8"
  }
 },
 "nbformat": 4,
 "nbformat_minor": 5
}
